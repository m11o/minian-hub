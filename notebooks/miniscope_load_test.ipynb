{
 "cells": [
  {
   "cell_type": "code",
   "execution_count": 2,
   "id": "a4ea0d8d",
   "metadata": {},
   "outputs": [],
   "source": [
    "%%capture\n",
    "%load_ext autoreload\n",
    "%autoreload 2\n",
    "import itertools as itt\n",
    "import os\n",
    "import sys\n",
    "\n",
    "import holoviews as hv\n",
    "import numpy as np\n",
    "import xarray as xr\n",
    "from dask.distributed import Client, LocalCluster\n",
    "from holoviews.operation.datashader import datashade, regrid\n",
    "from holoviews.util import Dynamic\n",
    "from IPython.core.display import display"
   ]
  },
  {
   "cell_type": "code",
   "execution_count": 3,
   "id": "2aaa417b",
   "metadata": {},
   "outputs": [
    {
     "ename": "NameError",
     "evalue": "name 'param_load_videos' is not defined",
     "output_type": "error",
     "traceback": [
      "\u001b[0;31m\u001b[0m",
      "\u001b[0;31mNameError\u001b[0mTraceback (most recent call last)",
      "\u001b[0;32m<ipython-input-3-1d10b6d4a46c>\u001b[0m in \u001b[0;36m<module>\u001b[0;34m\u001b[0m\n\u001b[0;32m----> 1\u001b[0;31m \u001b[0mparam_load_videos\u001b[0m\u001b[0;34m\u001b[0m\u001b[0;34m\u001b[0m\u001b[0m\n\u001b[0m",
      "\u001b[0;31mNameError\u001b[0m: name 'param_load_videos' is not defined"
     ]
    }
   ],
   "source": [
    "param_load_videos"
   ]
  },
  {
   "cell_type": "code",
   "execution_count": 5,
   "id": "4990cb57",
   "metadata": {},
   "outputs": [],
   "source": [
    "dpath = './miniscope_test/'\n",
    "param_load_videos = {\n",
    "    \"pattern\": \"[0-3]+\\.avi$\",\n",
    "    \"dtype\": np.uint8,\n",
    "    \"downsample\": dict(frame=1, height=1, width=1),\n",
    "    \"downsample_strategy\": \"subset\",\n",
    "}\n",
    "param_denoise = {\"method\": \"median\", \"ksize\": 7}\n",
    "param_background_removal = {\"method\": \"tophat\", \"wnd\": 15}"
   ]
  },
  {
   "cell_type": "code",
   "execution_count": 7,
   "id": "d6aef495",
   "metadata": {},
   "outputs": [],
   "source": [
    "from minian.utilities import load_videos"
   ]
  },
  {
   "cell_type": "code",
   "execution_count": 8,
   "id": "50e648a4",
   "metadata": {},
   "outputs": [
    {
     "name": "stdout",
     "output_type": "stream",
     "text": [
      "loading 4 videos in folder miniscope_test\n",
      "<xarray.DataArray 'fluorescence' (frame: 3546, height: 600, width: 600)>\n",
      "dask.array<concatenate, shape=(3546, 600, 600), dtype=uint8, chunksize=(1000, 600, 600), chunktype=numpy.ndarray>\n",
      "Coordinates:\n",
      "  * frame    (frame) int64 0 1 2 3 4 5 6 ... 3539 3540 3541 3542 3543 3544 3545\n",
      "  * height   (height) int64 0 1 2 3 4 5 6 7 ... 592 593 594 595 596 597 598 599\n",
      "  * width    (width) int64 0 1 2 3 4 5 6 7 8 ... 592 593 594 595 596 597 598 599\n"
     ]
    }
   ],
   "source": [
    "varr = load_videos(dpath, **param_load_videos)\n",
    "print(varr)"
   ]
  }
 ],
 "metadata": {
  "kernelspec": {
   "display_name": "Environment (conda_minian)",
   "language": "python",
   "name": "conda_minian"
  },
  "language_info": {
   "codemirror_mode": {
    "name": "ipython",
    "version": 3
   },
   "file_extension": ".py",
   "mimetype": "text/x-python",
   "name": "python",
   "nbconvert_exporter": "python",
   "pygments_lexer": "ipython3",
   "version": "3.8.10"
  }
 },
 "nbformat": 4,
 "nbformat_minor": 5
}
